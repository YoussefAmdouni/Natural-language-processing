{
 "cells": [
  {
   "cell_type": "markdown",
   "metadata": {},
   "source": [
    "##  Sentiment Analysis"
   ]
  },
  {
   "cell_type": "markdown",
   "metadata": {},
   "source": [
    "### Data Exploration"
   ]
  },
  {
   "cell_type": "code",
   "execution_count": 1,
   "metadata": {},
   "outputs": [
    {
     "data": {
      "text/html": [
       "<div>\n",
       "<style scoped>\n",
       "    .dataframe tbody tr th:only-of-type {\n",
       "        vertical-align: middle;\n",
       "    }\n",
       "\n",
       "    .dataframe tbody tr th {\n",
       "        vertical-align: top;\n",
       "    }\n",
       "\n",
       "    .dataframe thead th {\n",
       "        text-align: right;\n",
       "    }\n",
       "</style>\n",
       "<table border=\"1\" class=\"dataframe\">\n",
       "  <thead>\n",
       "    <tr style=\"text-align: right;\">\n",
       "      <th></th>\n",
       "      <th>Product Name</th>\n",
       "      <th>Brand Name</th>\n",
       "      <th>Price</th>\n",
       "      <th>Rating</th>\n",
       "      <th>Reviews</th>\n",
       "      <th>Review Votes</th>\n",
       "    </tr>\n",
       "  </thead>\n",
       "  <tbody>\n",
       "    <tr>\n",
       "      <th>0</th>\n",
       "      <td>Samsung Galaxy J7 SM- J700H/DS GSM Smartphone-...</td>\n",
       "      <td>Samsung</td>\n",
       "      <td>208.00</td>\n",
       "      <td>4</td>\n",
       "      <td>excellent product, low cost.</td>\n",
       "      <td>0.0</td>\n",
       "    </tr>\n",
       "    <tr>\n",
       "      <th>1</th>\n",
       "      <td>Apple iPhone 4 32GB (Black) - Verizon</td>\n",
       "      <td>Apple</td>\n",
       "      <td>69.98</td>\n",
       "      <td>5</td>\n",
       "      <td>Excellant</td>\n",
       "      <td>0.0</td>\n",
       "    </tr>\n",
       "    <tr>\n",
       "      <th>2</th>\n",
       "      <td>Nokia E5-00 Unlocked GSM Phone with Easy Email...</td>\n",
       "      <td>Nokia</td>\n",
       "      <td>115.00</td>\n",
       "      <td>5</td>\n",
       "      <td>terrific cell</td>\n",
       "      <td>0.0</td>\n",
       "    </tr>\n",
       "    <tr>\n",
       "      <th>3</th>\n",
       "      <td>Samsung Galaxy Grand Prime Dual Sim Factory Un...</td>\n",
       "      <td>Samsung Korea LTD</td>\n",
       "      <td>184.90</td>\n",
       "      <td>4</td>\n",
       "      <td>I can use the same wall plug that i have from ...</td>\n",
       "      <td>1.0</td>\n",
       "    </tr>\n",
       "    <tr>\n",
       "      <th>4</th>\n",
       "      <td>Lenovo S8 S898T 5.3 Inch IPS Smart Cell Phone ...</td>\n",
       "      <td>NaN</td>\n",
       "      <td>180.00</td>\n",
       "      <td>5</td>\n",
       "      <td>Excellent cell phone</td>\n",
       "      <td>0.0</td>\n",
       "    </tr>\n",
       "  </tbody>\n",
       "</table>\n",
       "</div>"
      ],
      "text/plain": [
       "                                        Product Name         Brand Name  \\\n",
       "0  Samsung Galaxy J7 SM- J700H/DS GSM Smartphone-...            Samsung   \n",
       "1              Apple iPhone 4 32GB (Black) - Verizon              Apple   \n",
       "2  Nokia E5-00 Unlocked GSM Phone with Easy Email...              Nokia   \n",
       "3  Samsung Galaxy Grand Prime Dual Sim Factory Un...  Samsung Korea LTD   \n",
       "4  Lenovo S8 S898T 5.3 Inch IPS Smart Cell Phone ...                NaN   \n",
       "\n",
       "    Price  Rating                                            Reviews  \\\n",
       "0  208.00       4                       excellent product, low cost.   \n",
       "1   69.98       5                                          Excellant   \n",
       "2  115.00       5                                      terrific cell   \n",
       "3  184.90       4  I can use the same wall plug that i have from ...   \n",
       "4  180.00       5                               Excellent cell phone   \n",
       "\n",
       "   Review Votes  \n",
       "0           0.0  \n",
       "1           0.0  \n",
       "2           0.0  \n",
       "3           1.0  \n",
       "4           0.0  "
      ]
     },
     "execution_count": 1,
     "metadata": {},
     "output_type": "execute_result"
    }
   ],
   "source": [
    "import pandas as pd\n",
    "import numpy as np\n",
    "\n",
    "import warnings\n",
    "warnings.filterwarnings('ignore')\n",
    "\n",
    "df = pd.read_csv('Amazon_Unlocked_Mobile_Sample.csv', index_col=[0])\n",
    "df.head()"
   ]
  },
  {
   "cell_type": "code",
   "execution_count": 2,
   "metadata": {},
   "outputs": [
    {
     "data": {
      "text/plain": [
       "(289688, 6)"
      ]
     },
     "execution_count": 2,
     "metadata": {},
     "output_type": "execute_result"
    }
   ],
   "source": [
    "df.shape"
   ]
  },
  {
   "cell_type": "code",
   "execution_count": 3,
   "metadata": {},
   "outputs": [
    {
     "data": {
      "text/html": [
       "<div>\n",
       "<style scoped>\n",
       "    .dataframe tbody tr th:only-of-type {\n",
       "        vertical-align: middle;\n",
       "    }\n",
       "\n",
       "    .dataframe tbody tr th {\n",
       "        vertical-align: top;\n",
       "    }\n",
       "\n",
       "    .dataframe thead th {\n",
       "        text-align: right;\n",
       "    }\n",
       "</style>\n",
       "<table border=\"1\" class=\"dataframe\">\n",
       "  <thead>\n",
       "    <tr style=\"text-align: right;\">\n",
       "      <th></th>\n",
       "      <th>Product Name</th>\n",
       "      <th>Brand Name</th>\n",
       "      <th>Price</th>\n",
       "      <th>Rating</th>\n",
       "      <th>Reviews</th>\n",
       "      <th>Review Votes</th>\n",
       "      <th>Positively Rated</th>\n",
       "    </tr>\n",
       "  </thead>\n",
       "  <tbody>\n",
       "    <tr>\n",
       "      <th>0</th>\n",
       "      <td>Samsung Galaxy J7 SM- J700H/DS GSM Smartphone-...</td>\n",
       "      <td>Samsung</td>\n",
       "      <td>208.00</td>\n",
       "      <td>4</td>\n",
       "      <td>excellent product, low cost.</td>\n",
       "      <td>0.0</td>\n",
       "      <td>1</td>\n",
       "    </tr>\n",
       "    <tr>\n",
       "      <th>1</th>\n",
       "      <td>Apple iPhone 4 32GB (Black) - Verizon</td>\n",
       "      <td>Apple</td>\n",
       "      <td>69.98</td>\n",
       "      <td>5</td>\n",
       "      <td>Excellant</td>\n",
       "      <td>0.0</td>\n",
       "      <td>1</td>\n",
       "    </tr>\n",
       "    <tr>\n",
       "      <th>2</th>\n",
       "      <td>Nokia E5-00 Unlocked GSM Phone with Easy Email...</td>\n",
       "      <td>Nokia</td>\n",
       "      <td>115.00</td>\n",
       "      <td>5</td>\n",
       "      <td>terrific cell</td>\n",
       "      <td>0.0</td>\n",
       "      <td>1</td>\n",
       "    </tr>\n",
       "    <tr>\n",
       "      <th>3</th>\n",
       "      <td>Samsung Galaxy Grand Prime Dual Sim Factory Un...</td>\n",
       "      <td>Samsung Korea LTD</td>\n",
       "      <td>184.90</td>\n",
       "      <td>4</td>\n",
       "      <td>I can use the same wall plug that i have from ...</td>\n",
       "      <td>1.0</td>\n",
       "      <td>1</td>\n",
       "    </tr>\n",
       "    <tr>\n",
       "      <th>5</th>\n",
       "      <td>Blackberry Curve 8520 Gemini SmartPhone Unlock...</td>\n",
       "      <td>BlackBerry</td>\n",
       "      <td>39.99</td>\n",
       "      <td>1</td>\n",
       "      <td>the phone at first looks in great condition bu...</td>\n",
       "      <td>2.0</td>\n",
       "      <td>0</td>\n",
       "    </tr>\n",
       "  </tbody>\n",
       "</table>\n",
       "</div>"
      ],
      "text/plain": [
       "                                        Product Name         Brand Name  \\\n",
       "0  Samsung Galaxy J7 SM- J700H/DS GSM Smartphone-...            Samsung   \n",
       "1              Apple iPhone 4 32GB (Black) - Verizon              Apple   \n",
       "2  Nokia E5-00 Unlocked GSM Phone with Easy Email...              Nokia   \n",
       "3  Samsung Galaxy Grand Prime Dual Sim Factory Un...  Samsung Korea LTD   \n",
       "5  Blackberry Curve 8520 Gemini SmartPhone Unlock...         BlackBerry   \n",
       "\n",
       "    Price  Rating                                            Reviews  \\\n",
       "0  208.00       4                       excellent product, low cost.   \n",
       "1   69.98       5                                          Excellant   \n",
       "2  115.00       5                                      terrific cell   \n",
       "3  184.90       4  I can use the same wall plug that i have from ...   \n",
       "5   39.99       1  the phone at first looks in great condition bu...   \n",
       "\n",
       "   Review Votes  Positively Rated  \n",
       "0           0.0                 1  \n",
       "1           0.0                 1  \n",
       "2           0.0                 1  \n",
       "3           1.0                 1  \n",
       "5           2.0                 0  "
      ]
     },
     "execution_count": 3,
     "metadata": {},
     "output_type": "execute_result"
    }
   ],
   "source": [
    "# Drop missing values\n",
    "df.dropna(inplace=True)\n",
    "\n",
    "# Remove any 'neutral' ratings equal to 3\n",
    "df = df[df['Rating'] != 3]\n",
    "\n",
    "# Encode 4s and 5s as 1 (rated positively)\n",
    "# Encode 1s and 2s as 0 (rated poorly)\n",
    "df['Positively Rated'] = np.where(df['Rating'] > 3, 1, 0)\n",
    "df.head()"
   ]
  },
  {
   "cell_type": "code",
   "execution_count": 4,
   "metadata": {},
   "outputs": [
    {
     "data": {
      "text/plain": [
       "0.8713672695126893"
      ]
     },
     "execution_count": 4,
     "metadata": {},
     "output_type": "execute_result"
    }
   ],
   "source": [
    "# Most ratings are positive\n",
    "df['Positively Rated'].mean()"
   ]
  },
  {
   "cell_type": "code",
   "execution_count": 5,
   "metadata": {},
   "outputs": [],
   "source": [
    "# Reviews length\n",
    "df['Reviews length'] = df['Reviews'].apply(lambda x : len(x.split()))"
   ]
  },
  {
   "cell_type": "code",
   "execution_count": 6,
   "metadata": {},
   "outputs": [
    {
     "data": {
      "text/plain": [
       "(35.46818561298572, 52.061672274321715)"
      ]
     },
     "execution_count": 6,
     "metadata": {},
     "output_type": "execute_result"
    }
   ],
   "source": [
    "def average_of_tokens():\n",
    "    p = df[df['Positively Rated']==1]['Reviews length'].mean()\n",
    "    n = df[df['Positively Rated']==0]['Reviews length'].mean()\n",
    "    return (p,n)\n",
    "average_of_tokens()"
   ]
  },
  {
   "cell_type": "code",
   "execution_count": 7,
   "metadata": {},
   "outputs": [
    {
     "data": {
      "text/plain": [
       "(190.5470108954104, 276.8915813587229)"
      ]
     },
     "execution_count": 7,
     "metadata": {},
     "output_type": "execute_result"
    }
   ],
   "source": [
    "def average_char():\n",
    "    p = df[df['Positively Rated']==1]['Reviews'].apply(lambda x : len(x)).mean()\n",
    "    n = df[df['Positively Rated']==0]['Reviews'].apply(lambda x : len(x)).mean()\n",
    "    return (p,n)\n",
    "average_char()"
   ]
  },
  {
   "cell_type": "code",
   "execution_count": 8,
   "metadata": {},
   "outputs": [
    {
     "data": {
      "text/plain": [
       "(1.1594893635009036, 1.6270312835564464)"
      ]
     },
     "execution_count": 8,
     "metadata": {},
     "output_type": "execute_result"
    }
   ],
   "source": [
    "def average_of_digits():\n",
    "    p = df[df['Positively Rated']==1]['Reviews'].str.count(r'\\d').mean()\n",
    "    n = df[df['Positively Rated']==0]['Reviews'].str.count(r'\\d').mean()\n",
    "    return (p,n)\n",
    "average_of_digits()"
   ]
  },
  {
   "cell_type": "markdown",
   "metadata": {},
   "source": [
    "### Data Preprocessing"
   ]
  },
  {
   "cell_type": "code",
   "execution_count": 9,
   "metadata": {},
   "outputs": [],
   "source": [
    "import contractions\n",
    "import string\n",
    "import re\n",
    "from nltk.tokenize import word_tokenize\n",
    "from nltk.stem import WordNetLemmatizer"
   ]
  },
  {
   "cell_type": "code",
   "execution_count": 10,
   "metadata": {},
   "outputs": [],
   "source": [
    "stopwords_english = ['i', 'me', 'my', 'myself', 'we', 'our', 'ours','ourselves', 'you', 'your', 'yours', 'yourself',\n",
    " 'yourselves', 'he', 'him', 'his', 'himself', 'she', 'her', 'hers', 'herself', 'it', 'its', 'itself', 'they', 'them',\n",
    " 'their', 'theirs', 'themselves', 'what', 'which', 'who', 'whom', 'this', 'that', 'these', 'those', 'am', 'is', 'are',\n",
    " 'was', 'were', 'be', 'been', 'being', 'have', 'has', 'had', 'having', 'do', 'does', 'did', 'doing', 'a', 'an', 'the',\n",
    " 'and', 'but', 'if', 'or', 'because', 'as', 'until', 'while', 'of', 'at', 'by', 'for', 'with', 'about', 'against',\n",
    " 'between', 'into', 'through', 'during', 'before', 'after', 'above', 'below', 'to', 'from', 'up', 'down', 'in', 'out',\n",
    " 'on', 'off', 'over', 'under', 'again', 'further', 'then', 'once', 'here', 'there', 'when', 'where', 'why', 'how', 'all',\n",
    " 'any', 'both', 'each', 'few', 'more', 'most', 'other', 'some', 'such', 'only', 'own', 'same', 'so', 'than', 'too', 'very',\n",
    " 's', 't', 'can', 'will', 'just', 'don', 'should', 'now', 'd', 'll', 'm', 'o', 're', 've', 'y', 'ain', 'aren', 'could',\n",
    " 'didn', 'might', 'must', 'need', 'shan', 'should', 'wasn', 'weren', 'won', 'would']"
   ]
  },
  {
   "cell_type": "code",
   "execution_count": 11,
   "metadata": {},
   "outputs": [],
   "source": [
    "def words_contaction(review):\n",
    "    expanded_words = []    \n",
    "    for word in review.split():\n",
    "        expanded_words.append(contractions.fix(word))   \n",
    "    \n",
    "    expanded_text = ' '.join(expanded_words)\n",
    "    return expanded_text"
   ]
  },
  {
   "cell_type": "code",
   "execution_count": 12,
   "metadata": {},
   "outputs": [],
   "source": [
    "def text_processing(review, stopwords_english):\n",
    "\n",
    "    lemmatizer = WordNetLemmatizer()\n",
    "    \n",
    "    review = review.lower()\n",
    "     \n",
    "    review = re.sub(r'https?:\\/\\/.*[\\r\\n]*', '', review)\n",
    "    \n",
    "    review = re.sub(r'@', '', review)\n",
    "    review = re.sub('\\s+', ' ', review)\n",
    "    review = re.sub('\\d+', ' ', review)\n",
    "    review = re.sub(r'#', '', review)\n",
    "    review = re.sub(r'\"', '', review)\n",
    "    review = words_contaction(review)\n",
    "    \n",
    "    review_tokens = word_tokenize(review)\n",
    "    \n",
    "    review_clean = []\n",
    "    for word in review_tokens:\n",
    "        if (word not in stopwords_english and word not in string.punctuation):  \n",
    "            lemme_word = lemmatizer.lemmatize(word)  \n",
    "            review_clean.append(lemme_word)\n",
    "    return \" \".join(review_clean)"
   ]
  },
  {
   "cell_type": "code",
   "execution_count": 13,
   "metadata": {},
   "outputs": [],
   "source": [
    "df['Clean_Reviews'] = df['Reviews'].apply(lambda x : text_processing(x, stopwords_english))"
   ]
  },
  {
   "cell_type": "code",
   "execution_count": 14,
   "metadata": {},
   "outputs": [
    {
     "name": "stdout",
     "output_type": "stream",
     "text": [
      "Original Text:   the phone at first looks in great condition but then when i started using the phone the phone would shut off then turn back on after 2 mins of use. At first i thought it was because of the battery not charged all the way but then after the battery was charged fully it still kept on with this problem noted i got a used one. But ive had this phone before and its a great phone. i suggest getting a new one not a used one never know what ur goin to get. \n",
      "\n",
      "Cleaned Text:   phone first look great condition started using phone phone shut turn back min use first thought battery not charged way battery charged fully still kept problem noted got used one I phone great phone suggest getting new one not used one never know ur goin get\n"
     ]
    }
   ],
   "source": [
    "# Example\n",
    "print(\"Original Text:  \", df.loc[5,'Reviews'],\"\\n\\nCleaned Text:  \",df.loc[5,'Clean_Reviews'])"
   ]
  },
  {
   "cell_type": "markdown",
   "metadata": {},
   "source": [
    "### Train/Test Split"
   ]
  },
  {
   "cell_type": "code",
   "execution_count": 15,
   "metadata": {},
   "outputs": [],
   "source": [
    "from sklearn.model_selection import train_test_split\n",
    "\n",
    "# Train/Test Split\n",
    "X_train, X_test, y_train, y_test = train_test_split(df['Clean_Reviews'], \n",
    "                                                    df['Positively Rated'], \n",
    "                                                    stratify=df['Positively Rated'],\n",
    "                                                    random_state=0)"
   ]
  },
  {
   "cell_type": "code",
   "execution_count": 16,
   "metadata": {},
   "outputs": [
    {
     "name": "stdout",
     "output_type": "stream",
     "text": [
      "X_train first entry:\n",
      "\n",
      " nice ✊🏾\n",
      "\n",
      "\n",
      "X_train shape:  (162894,)\n"
     ]
    }
   ],
   "source": [
    "print('X_train first entry:\\n\\n', X_train.iloc[0])\n",
    "print('\\n\\nX_train shape: ', X_train.shape)"
   ]
  },
  {
   "cell_type": "markdown",
   "metadata": {},
   "source": [
    "## Modelling"
   ]
  },
  {
   "cell_type": "markdown",
   "metadata": {},
   "source": [
    "### CountVectorizer"
   ]
  },
  {
   "cell_type": "code",
   "execution_count": 17,
   "metadata": {},
   "outputs": [],
   "source": [
    "from sklearn.feature_extraction.text import CountVectorizer\n",
    "from sklearn.feature_extraction.text import TfidfVectorizer\n",
    "from sklearn.linear_model import LogisticRegression\n",
    "from sklearn.naive_bayes import MultinomialNB\n",
    "from sklearn.svm import SVC\n",
    "from sklearn.pipeline import Pipeline\n",
    "from sklearn.metrics import roc_auc_score, plot_confusion_matrix, plot_roc_curve"
   ]
  },
  {
   "cell_type": "code",
   "execution_count": 18,
   "metadata": {},
   "outputs": [],
   "source": [
    "text = [\"the phone at first looks in great condition but then when i started using the phone the phone would shut off\"]"
   ]
  },
  {
   "cell_type": "code",
   "execution_count": 19,
   "metadata": {},
   "outputs": [
    {
     "name": "stdout",
     "output_type": "stream",
     "text": [
      "{'the': 11, 'phone': 8, 'at': 0, 'first': 3, 'looks': 6, 'in': 5, 'great': 4, 'condition': 2, 'but': 1, 'then': 12, 'when': 14, 'started': 10, 'using': 13, 'would': 15, 'shut': 9, 'off': 7}\n"
     ]
    }
   ],
   "source": [
    "vectorizer = CountVectorizer()\n",
    "vectorizer.fit(text)\n",
    "print(vectorizer.vocabulary_)"
   ]
  },
  {
   "cell_type": "code",
   "execution_count": 20,
   "metadata": {},
   "outputs": [
    {
     "name": "stdout",
     "output_type": "stream",
     "text": [
      "(1, 16)\n",
      "['at', 'but', 'condition', 'first', 'great', 'in', 'looks', 'off', 'phone', 'shut', 'started', 'the', 'then', 'using', 'when', 'would']\n",
      "[[1 1 1 1 1 1 1 1 3 1 1 3 1 1 1 1]]\n"
     ]
    }
   ],
   "source": [
    "vector = vectorizer.transform(text)\n",
    "print(vector.shape)\n",
    "print(vectorizer.get_feature_names())\n",
    "print(vector.toarray())"
   ]
  },
  {
   "cell_type": "code",
   "execution_count": 21,
   "metadata": {},
   "outputs": [
    {
     "data": {
      "text/plain": [
       "Pipeline(steps=[('vectorizer', CountVectorizer()),\n",
       "                ('model', LogisticRegression())])"
      ]
     },
     "execution_count": 21,
     "metadata": {},
     "output_type": "execute_result"
    }
   ],
   "source": [
    "pipe_cv_lgr = Pipeline([\n",
    "    ('vectorizer', CountVectorizer()),\n",
    "    ('model', LogisticRegression())\n",
    "])\n",
    "pipe_cv_lgr.fit(X_train, y_train)"
   ]
  },
  {
   "cell_type": "code",
   "execution_count": 22,
   "metadata": {},
   "outputs": [
    {
     "name": "stdout",
     "output_type": "stream",
     "text": [
      "AUC:  0.8660993819302427\n"
     ]
    },
    {
     "data": {
      "image/png": "[encoded data removed]",
      "text/plain": [
       "<Figure size 432x288 with 2 Axes>"
      ]
     },
     "metadata": {
      "needs_background": "light"
     },
     "output_type": "display_data"
    },
    {
     "data": {
      "image/png": "[encoded data removed]",
      "text/plain": [
       "<Figure size 432x288 with 1 Axes>"
      ]
     },
     "metadata": {
      "needs_background": "light"
     },
     "output_type": "display_data"
    }
   ],
   "source": [
    "def performance(pipe):\n",
    "    predictions = pipe.predict(X_test)\n",
    "    plot_confusion_matrix(pipe, X_test, y_test);\n",
    "    print('AUC: ', roc_auc_score(y_test, predictions))\n",
    "    plot_roc_curve(pipe, X_test, y_test);\n",
    "performance(pipe_cv_lgr)"
   ]
  },
  {
   "cell_type": "code",
   "execution_count": 23,
   "metadata": {},
   "outputs": [
    {
     "name": "stdout",
     "output_type": "stream",
     "text": [
      "['__', 'bootloaders', 'damn', 'exploration', 'hugest', 'materialsthe', 'perfectamente', 'resiliency', 'stud', 'veredicto']\n",
      "38119\n"
     ]
    }
   ],
   "source": [
    "print(pipe_cv_lgr['vectorizer'].get_feature_names()[::4000])\n",
    "print(len(pipe_cv_lgr['vectorizer'].get_feature_names()))"
   ]
  },
  {
   "cell_type": "code",
   "execution_count": 24,
   "metadata": {
    "scrolled": true
   },
   "outputs": [
    {
     "name": "stdout",
     "output_type": "stream",
     "text": [
      "Smallest Coefs:\n",
      "['worst' 'nit' 'false' 'unusable' 'mony' 'luck' 'junk' 'remaining'\n",
      " 'frozen' 'unsatisfied']\n",
      "\n",
      "Largest Coefs: \n",
      "['excelent' 'excelente' 'eeeks' 'excellent' 'love' 'perfecto' 'amazed'\n",
      " 'exelente' 'resistant' 'awesome']\n"
     ]
    }
   ],
   "source": [
    "# get the feature names as numpy array\n",
    "feature_names = np.array(pipe_cv_lgr['vectorizer'].get_feature_names())\n",
    "\n",
    "# Sort the coefficients from the logistic regression model\n",
    "sorted_coef_index = pipe_cv_lgr['model'].coef_[0].argsort()\n",
    "\n",
    "print('Smallest Coefs:\\n{}\\n'.format(feature_names[sorted_coef_index[:10]]))\n",
    "print('Largest Coefs: \\n{}'.format(feature_names[sorted_coef_index[:-11:-1]]))"
   ]
  },
  {
   "cell_type": "code",
   "execution_count": 25,
   "metadata": {},
   "outputs": [
    {
     "data": {
      "text/plain": [
       "Pipeline(steps=[('vectorizer', CountVectorizer()),\n",
       "                ('model', MultinomialNB(alpha=0.1))])"
      ]
     },
     "execution_count": 25,
     "metadata": {},
     "output_type": "execute_result"
    }
   ],
   "source": [
    "pipe_cv_nb = Pipeline([\n",
    "    ('vectorizer', CountVectorizer()),\n",
    "    ('model', MultinomialNB(alpha=0.1))\n",
    "])\n",
    "pipe_cv_nb.fit(X_train, y_train)"
   ]
  },
  {
   "cell_type": "code",
   "execution_count": 26,
   "metadata": {},
   "outputs": [
    {
     "name": "stdout",
     "output_type": "stream",
     "text": [
      "AUC:  0.8498880882233262\n"
     ]
    },
    {
     "data": {
      "image/png": "[encoded data removed]",
      "text/plain": [
       "<Figure size 432x288 with 2 Axes>"
      ]
     },
     "metadata": {
      "needs_background": "light"
     },
     "output_type": "display_data"
    },
    {
     "data": {
      "image/png": "[encoded data removed]",
      "text/plain": [
       "<Figure size 432x288 with 1 Axes>"
      ]
     },
     "metadata": {
      "needs_background": "light"
     },
     "output_type": "display_data"
    }
   ],
   "source": [
    "performance(pipe_cv_nb)"
   ]
  },
  {
   "cell_type": "code",
   "execution_count": 27,
   "metadata": {},
   "outputs": [],
   "source": [
    "sentences = [\"I have an issue, my phone is not working\", \"Good Services, I liked it\"]\n",
    "def custom_prediction(pipe, sentences):\n",
    "    sentences = [text_processing(sent, stopwords_english) for sent in sentences]\n",
    "    return pipe.predict(pd.Series(sentences))"
   ]
  },
  {
   "cell_type": "code",
   "execution_count": 28,
   "metadata": {},
   "outputs": [
    {
     "data": {
      "text/plain": [
       "array([1, 1])"
      ]
     },
     "execution_count": 28,
     "metadata": {},
     "output_type": "execute_result"
    }
   ],
   "source": [
    "custom_prediction(pipe_cv_lgr, sentences)"
   ]
  },
  {
   "cell_type": "markdown",
   "metadata": {},
   "source": [
    "### Tf-idf"
   ]
  },
  {
   "cell_type": "code",
   "execution_count": 29,
   "metadata": {},
   "outputs": [
    {
     "data": {
      "text/plain": [
       "['at',\n",
       " 'but',\n",
       " 'condition',\n",
       " 'first',\n",
       " 'great',\n",
       " 'in',\n",
       " 'looks',\n",
       " 'off',\n",
       " 'phone',\n",
       " 'shut',\n",
       " 'started',\n",
       " 'the',\n",
       " 'then',\n",
       " 'using',\n",
       " 'when',\n",
       " 'would']"
      ]
     },
     "execution_count": 29,
     "metadata": {},
     "output_type": "execute_result"
    }
   ],
   "source": [
    "vectorizer = TfidfVectorizer().fit(text)\n",
    "vectorizer.get_feature_names()"
   ]
  },
  {
   "cell_type": "code",
   "execution_count": 30,
   "metadata": {},
   "outputs": [
    {
     "data": {
      "text/plain": [
       "Pipeline(steps=[('vectorizer', TfidfVectorizer(min_df=5)),\n",
       "                ('model', LogisticRegression())])"
      ]
     },
     "execution_count": 30,
     "metadata": {},
     "output_type": "execute_result"
    }
   ],
   "source": [
    "pipe_tfidf = Pipeline([\n",
    "    ('vectorizer', TfidfVectorizer(min_df=5)),\n",
    "    ('model', LogisticRegression())\n",
    "])\n",
    "pipe_tfidf.fit(X_train, y_train)"
   ]
  },
  {
   "cell_type": "code",
   "execution_count": 31,
   "metadata": {},
   "outputs": [
    {
     "name": "stdout",
     "output_type": "stream",
     "text": [
      "AUC:  0.8612774677224178\n"
     ]
    },
    {
     "data": {
      "image/png": "[encoded data removed]",
      "text/plain": [
       "<Figure size 432x288 with 2 Axes>"
      ]
     },
     "metadata": {
      "needs_background": "light"
     },
     "output_type": "display_data"
    },
    {
     "data": {
      "image/png": "[encoded data removed]",
      "text/plain": [
       "<Figure size 432x288 with 1 Axes>"
      ]
     },
     "metadata": {
      "needs_background": "light"
     },
     "output_type": "display_data"
    }
   ],
   "source": [
    "performance(pipe_tfidf)"
   ]
  },
  {
   "cell_type": "code",
   "execution_count": 32,
   "metadata": {},
   "outputs": [
    {
     "name": "stdout",
     "output_type": "stream",
     "text": [
      "Smallest tfidf score:\n",
      "['keynote' 'liquidating' 'tsmc' 'submarket' 'strengthened' 'srgb'\n",
      " 'messiah' 'ionized' 'seizing' 'resin']\n",
      "\n",
      "Largest tfidf score: \n",
      "['phone' 'nicee' 'esp' 'unlocked' 'never' 'new' 'especial' 'grande'\n",
      " 'purchase' 'unique']\n"
     ]
    }
   ],
   "source": [
    "feature_names = np.array(pipe_tfidf['vectorizer'].get_feature_names())\n",
    "sorted_tfidf_index = pipe_tfidf['vectorizer'].transform(X_train).max(0).toarray()[0].argsort()\n",
    "\n",
    "print('Smallest tfidf score:\\n{}\\n'.format(feature_names[sorted_tfidf_index[:10]]))\n",
    "print('Largest tfidf score: \\n{}'.format(feature_names[sorted_tfidf_index[:-11:-1]]))"
   ]
  },
  {
   "cell_type": "code",
   "execution_count": 33,
   "metadata": {},
   "outputs": [
    {
     "name": "stdout",
     "output_type": "stream",
     "text": [
      "Smallest Coefs:\n",
      "['not' 'worst' 'waste' 'useless' 'poor' 'terrible' 'return' 'horrible'\n",
      " 'returning' 'disappointed']\n",
      "\n",
      "Largest Coefs: \n",
      "['love' 'great' 'excellent' 'perfect' 'amazing' 'awesome' 'best' 'far'\n",
      " 'perfectly' 'easy']\n"
     ]
    }
   ],
   "source": [
    "sorted_coef_index = pipe_tfidf['model'].coef_[0].argsort()\n",
    "\n",
    "print('Smallest Coefs:\\n{}\\n'.format(feature_names[sorted_coef_index[:10]]))\n",
    "print('Largest Coefs: \\n{}'.format(feature_names[sorted_coef_index[:-11:-1]]))"
   ]
  },
  {
   "cell_type": "code",
   "execution_count": 34,
   "metadata": {},
   "outputs": [
    {
     "data": {
      "text/plain": [
       "array([0, 1])"
      ]
     },
     "execution_count": 34,
     "metadata": {},
     "output_type": "execute_result"
    }
   ],
   "source": [
    "custom_prediction(pipe_tfidf, sentences)"
   ]
  },
  {
   "cell_type": "markdown",
   "metadata": {},
   "source": [
    "### n-grams"
   ]
  },
  {
   "cell_type": "code",
   "execution_count": 35,
   "metadata": {},
   "outputs": [
    {
     "name": "stdout",
     "output_type": "stream",
     "text": [
      "{'the': 23, 'phone': 15, 'at': 0, 'first': 6, 'looks': 12, 'in': 10, 'great': 8, 'condition': 4, 'but': 2, 'then': 25, 'when': 29, 'started': 21, 'using': 27, 'would': 31, 'shut': 19, 'off': 14, 'the phone': 24, 'phone at': 16, 'at first': 1, 'first looks': 7, 'looks in': 13, 'in great': 11, 'great condition': 9, 'condition but': 5, 'but then': 3, 'then when': 26, 'when started': 30, 'started using': 22, 'using the': 28, 'phone the': 17, 'phone would': 18, 'would shut': 32, 'shut off': 20}\n"
     ]
    }
   ],
   "source": [
    "vectorizer = CountVectorizer(ngram_range=(1,2)).fit(text)\n",
    "print(vectorizer.vocabulary_)"
   ]
  },
  {
   "cell_type": "code",
   "execution_count": 36,
   "metadata": {},
   "outputs": [
    {
     "data": {
      "text/plain": [
       "116720"
      ]
     },
     "execution_count": 36,
     "metadata": {},
     "output_type": "execute_result"
    }
   ],
   "source": [
    "# Fit the CountVectorizer to the training data specifiying a min document frequency of 5 and extracting 1-grams and 2-grams\n",
    "pipe_cv_ngram = Pipeline([\n",
    "    ('vectorizer', CountVectorizer(min_df=5, ngram_range=(1,2))),\n",
    "    ('model', LogisticRegression())\n",
    "])\n",
    "pipe_cv_ngram.fit(X_train, y_train)\n",
    "len(pipe_cv_ngram['vectorizer'].get_feature_names())"
   ]
  },
  {
   "cell_type": "code",
   "execution_count": 37,
   "metadata": {},
   "outputs": [
    {
     "name": "stdout",
     "output_type": "stream",
     "text": [
      "AUC:  0.9200175755781406\n"
     ]
    },
    {
     "data": {
      "image/png": "[encoded data removed]",
      "text/plain": [
       "<Figure size 432x288 with 2 Axes>"
      ]
     },
     "metadata": {
      "needs_background": "light"
     },
     "output_type": "display_data"
    },
    {
     "data": {
      "image/png": "[encoded data removed]",
      "text/plain": [
       "<Figure size 432x288 with 1 Axes>"
      ]
     },
     "metadata": {
      "needs_background": "light"
     },
     "output_type": "display_data"
    }
   ],
   "source": [
    "performance(pipe_cv_ngram)"
   ]
  },
  {
   "cell_type": "code",
   "execution_count": 38,
   "metadata": {},
   "outputs": [
    {
     "name": "stdout",
     "output_type": "stream",
     "text": [
      "Smallest Coefs:\n",
      "['no good' 'not happy' 'worst' 'not worth' 'not good' 'junk' 'horrible'\n",
      " 'not satisfied' 'not recommend' 'not expected']\n",
      "\n",
      "Largest Coefs: \n",
      "['not bad' 'excelente' 'excelent' 'excellent' 'love' 'awesome' 'perfect'\n",
      " 'no problem' 'great' 'not problem']\n"
     ]
    }
   ],
   "source": [
    "feature_names = np.array(pipe_cv_ngram['vectorizer'].get_feature_names())\n",
    "sorted_coef_index = pipe_cv_ngram['model'].coef_[0].argsort()\n",
    "\n",
    "print('Smallest Coefs:\\n{}\\n'.format(feature_names[sorted_coef_index[:10]]))\n",
    "print('Largest Coefs: \\n{}'.format(feature_names[sorted_coef_index[:-11:-1]]))"
   ]
  },
  {
   "cell_type": "code",
   "execution_count": 39,
   "metadata": {},
   "outputs": [
    {
     "data": {
      "text/plain": [
       "array([0, 1])"
      ]
     },
     "execution_count": 39,
     "metadata": {},
     "output_type": "execute_result"
    }
   ],
   "source": [
    "custom_prediction(pipe_cv_ngram, sentences)"
   ]
  },
  {
   "cell_type": "markdown",
   "metadata": {},
   "source": [
    "### Adding features"
   ]
  },
  {
   "cell_type": "markdown",
   "metadata": {},
   "source": [
    "We can add features other than words, in many problems the length of text may be crucial to improve the model performance for example for a spam classifier problem number of digits, length of the document, non-word characters and number of links can help us identifying spam emails. "
   ]
  },
  {
   "cell_type": "code",
   "execution_count": 40,
   "metadata": {},
   "outputs": [],
   "source": [
    "from scipy.sparse import csr_matrix, hstack\n",
    "def add_feature(X, feature_to_add):\n",
    "    return hstack([X, csr_matrix(feature_to_add).T], 'csr')"
   ]
  },
  {
   "cell_type": "code",
   "execution_count": 42,
   "metadata": {},
   "outputs": [],
   "source": [
    "vectorizer = CountVectorizer(min_df=5, ngram_range=(1, 2)).fit(X_train)\n",
    "X_train_vectorized = vectorizer.transform(X_train)\n",
    "X_test_vectorized = vectorizer.transform(X_test)"
   ]
  },
  {
   "cell_type": "code",
   "execution_count": 43,
   "metadata": {},
   "outputs": [],
   "source": [
    "# Add Features to the sparse matrix\n",
    "train = add_feature(X_train_vectorized , [len(x.split()) for x in X_train])\n",
    "test = add_feature(X_test_vectorized, [len(x.split()) for x in X_test])\n",
    "clf = LogisticRegression(C=100).fit(train, y_train)"
   ]
  },
  {
   "cell_type": "code",
   "execution_count": 44,
   "metadata": {},
   "outputs": [
    {
     "name": "stdout",
     "output_type": "stream",
     "text": [
      "AUC:  0.8593254238692867\n"
     ]
    },
    {
     "data": {
      "image/png": "[encoded data removed]",
      "text/plain": [
       "<Figure size 432x288 with 2 Axes>"
      ]
     },
     "metadata": {
      "needs_background": "light"
     },
     "output_type": "display_data"
    },
    {
     "data": {
      "image/png": "[encoded data removed]",
      "text/plain": [
       "<Figure size 432x288 with 1 Axes>"
      ]
     },
     "metadata": {
      "needs_background": "light"
     },
     "output_type": "display_data"
    }
   ],
   "source": [
    "predictions = clf.predict(test)\n",
    "plot_confusion_matrix(clf, test, y_test);\n",
    "print('AUC: ', roc_auc_score(y_test, predictions))\n",
    "plot_roc_curve(clf, test, y_test);"
   ]
  },
  {
   "cell_type": "code",
   "execution_count": 45,
   "metadata": {},
   "outputs": [
    {
     "name": "stdout",
     "output_type": "stream",
     "text": [
      "small_coeffs:  ['worst', 'not good', 'horrible', 'terrible', 'not happy', 'not recommend', 'not buy', 'poor', 'disappointed', 'returning']\n",
      "large_coeffs:  ['excelente', 'excelent', 'excellent', 'amazing', 'awesome', 'no problem', 'not bad', 'perfect', 'perfectly', 'great']\n"
     ]
    }
   ],
   "source": [
    "feature_names = np.array(vectorizer.get_feature_names() + ['len_review', ])\n",
    "sorted_coef_index = clf.coef_[0].argsort()\n",
    "print(\"small_coeffs: \", list(feature_names[sorted_coef_index[:10]]))\n",
    "print(\"large_coeffs: \", list(feature_names[sorted_coef_index[:-11:-1]]))"
   ]
  }
 ],
 "metadata": {
  "kernelspec": {
   "display_name": "Python 3",
   "language": "python",
   "name": "python3"
  },
  "language_info": {
   "codemirror_mode": {
    "name": "ipython",
    "version": 3
   },
   "file_extension": ".py",
   "mimetype": "text/x-python",
   "name": "python",
   "nbconvert_exporter": "python",
   "pygments_lexer": "ipython3",
   "version": "3.8.3"
  }
 },
 "nbformat": 4,
 "nbformat_minor": 2
}
